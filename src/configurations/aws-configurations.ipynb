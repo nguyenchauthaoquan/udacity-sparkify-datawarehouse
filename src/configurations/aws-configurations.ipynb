{
 "cells": [
  {
   "cell_type": "code",
   "execution_count": 1,
   "metadata": {
    "editable": true
   },
   "outputs": [],
   "source": [
    "import pandas as pd\n",
    "import boto3\n",
    "import json\n",
    "import configparser\n",
    "import base64"
   ]
  },
  {
   "cell_type": "markdown",
   "metadata": {
    "editable": true
   },
   "source": [
    "## Read all the configurations parameters via 3 configuration files with extension cfg\n",
    "### Credentials configurations\n",
    "The credentials are saved in credentials.cfg file, including:\n",
    "- IAM user credentials are in AWS section, it is the general credentials to create all aws services using python code via boto3 library:\n",
    "```\n",
    "[AWS]\n",
    "KEY=\n",
    "SECRET=\n",
    "```\n",
    "With KEY is the IAM user's access KEY and SECRET is the IAM user's secret key, each keys must be encoded into base64 to ensure the best security.\n",
    "- The redshift cluster credentials are in REDSHIFT section, it is the redshift credentials to connect to redshift cluster:\n",
    "```\n",
    "[REDSHIFT]\n",
    "USER=\n",
    "PASSWORD=\n",
    "```\n",
    "With USER is the username of the redshift cluster, PASSWORD is the password of the redshift cluster and its value must be encoded to base64 to ensure the best security.\n",
    "### Redshift configurations\n",
    "The redshift configurations are saved in redshift.cfg file to create redshift cluster using python code via boto3 library, including:\n",
    "```\n",
    "[REDSHIFT]\n",
    "CLUSTER_TYPE=\n",
    "NUM_NODES=\n",
    "NODE_TYPE=\n",
    "CLUSTER_IDENTIFIER=\n",
    "DB_NAME=\n",
    "PORT=\n",
    "IAM_ROLE_NAME=\n",
    "REGION=\n",
    "```\n",
    "<strong>Based on the vital policies and requirements of aws, you must adjust these value mentioned above accordingly.</strong>\n",
    "Descriptions:\n",
    "CLUSTER_TYPE is the type of redshift cluster, it can be single-node or multi-node\n",
    "NUM_NODES is the number of nodes in redshift cluster.\n",
    "NODE_TYPE is the node type of redshift cluster, it can be only one of these values: ds2.xlarge, ds2.8xlarge, dc1.large, dc1.8xlarge, dc2.large, dc2.8xlarge, ra3.xlplus, ra3.4xlarge, ra3.16xlarge\n",
    "CLUSTER_IDENTIFIER is the name of redshift-cluster.\n",
    "DB_NAME is the database name from redshift cluster.\n",
    "PORT is the redshift cluster port.\n",
    "IAM_ROLE_NAME is the iam role name for redshift cluster.\n",
    "REGION is the redshift cluster region, it can be any region of aws."
   ]
  },
  {
   "cell_type": "code",
   "execution_count": 2,
   "metadata": {
    "editable": true
   },
   "outputs": [
    {
     "data": {
      "text/plain": "['credentials.cfg', 'redshift.cfg']"
     },
     "execution_count": 2,
     "metadata": {},
     "output_type": "execute_result"
    }
   ],
   "source": [
    "config = configparser.ConfigParser()\n",
    "\n",
    "config.read([\"credentials.cfg\", \"redshift.cfg\"])"
   ]
  },
  {
   "cell_type": "markdown",
   "metadata": {
    "editable": true
   },
   "source": [
    "#### Load all configuration parameters.\n",
    "After reading the credentials.cfg and redshift.cfg files successfully, load these configurations into pandas dataframe to verify that these configurations are loaded successfully."
   ]
  },
  {
   "cell_type": "code",
   "execution_count": 3,
   "metadata": {
    "editable": true
   },
   "outputs": [
    {
     "data": {
      "text/plain": "        Configurations                                             Values\n0                  KEY                       QUtJQVpDQVdOT1JHVFpUVE1ORVY=\n1               SECRET  YlFvcXFwUGFCWjFZRVZRODlrRW9Sa2ZBUCtiVEx3STJheV...\n2               REGION                                          us-west-2\n3         CLUSTER_TYPE                                         multi-node\n4            NUM_NODES                                                  4\n5            NODE_TYPE                                          dc2.large\n6   CLUSTER_IDENTIFIER                                   sparkify-cluster\n7              DB_NAME                                           sparkify\n8                 USER                                            quannct\n9             PASSWORD                                   Mzk3OTk5X1F1YW4=\n10                PORT                                               5439\n11       IAM_ROLE_NAME                                  redshift-iam-role",
      "text/html": "<div>\n<style scoped>\n    .dataframe tbody tr th:only-of-type {\n        vertical-align: middle;\n    }\n\n    .dataframe tbody tr th {\n        vertical-align: top;\n    }\n\n    .dataframe thead th {\n        text-align: right;\n    }\n</style>\n<table border=\"1\" class=\"dataframe\">\n  <thead>\n    <tr style=\"text-align: right;\">\n      <th></th>\n      <th>Configurations</th>\n      <th>Values</th>\n    </tr>\n  </thead>\n  <tbody>\n    <tr>\n      <th>0</th>\n      <td>KEY</td>\n      <td>QUtJQVpDQVdOT1JHVFpUVE1ORVY=</td>\n    </tr>\n    <tr>\n      <th>1</th>\n      <td>SECRET</td>\n      <td>YlFvcXFwUGFCWjFZRVZRODlrRW9Sa2ZBUCtiVEx3STJheV...</td>\n    </tr>\n    <tr>\n      <th>2</th>\n      <td>REGION</td>\n      <td>us-west-2</td>\n    </tr>\n    <tr>\n      <th>3</th>\n      <td>CLUSTER_TYPE</td>\n      <td>multi-node</td>\n    </tr>\n    <tr>\n      <th>4</th>\n      <td>NUM_NODES</td>\n      <td>4</td>\n    </tr>\n    <tr>\n      <th>5</th>\n      <td>NODE_TYPE</td>\n      <td>dc2.large</td>\n    </tr>\n    <tr>\n      <th>6</th>\n      <td>CLUSTER_IDENTIFIER</td>\n      <td>sparkify-cluster</td>\n    </tr>\n    <tr>\n      <th>7</th>\n      <td>DB_NAME</td>\n      <td>sparkify</td>\n    </tr>\n    <tr>\n      <th>8</th>\n      <td>USER</td>\n      <td>quannct</td>\n    </tr>\n    <tr>\n      <th>9</th>\n      <td>PASSWORD</td>\n      <td>Mzk3OTk5X1F1YW4=</td>\n    </tr>\n    <tr>\n      <th>10</th>\n      <td>PORT</td>\n      <td>5439</td>\n    </tr>\n    <tr>\n      <th>11</th>\n      <td>IAM_ROLE_NAME</td>\n      <td>redshift-iam-role</td>\n    </tr>\n  </tbody>\n</table>\n</div>"
     },
     "execution_count": 3,
     "metadata": {},
     "output_type": "execute_result"
    }
   ],
   "source": [
    "KEY =  config.get(\"AWS\", \"KEY\") # Iam user access key.\n",
    "SECRET = config.get(\"AWS\", \"SECRET\") # IAM user secret key\n",
    "\n",
    "REGION = config.get(\"REDSHIFT\", \"REGION\")\n",
    "CLUSTER_TYPE = config.get(\"REDSHIFT\", \"CLUSTER_TYPE\")\n",
    "NUM_NODES = config.get(\"REDSHIFT\", \"NUM_NODES\")\n",
    "NODE_TYPE = config.get(\"REDSHIFT\", \"NODE_TYPE\")\n",
    "CLUSTER_IDENTIFIER = config.get(\"REDSHIFT\", \"CLUSTER_IDENTIFIER\")\n",
    "DB_NAME = config.get(\"REDSHIFT\", \"DB_NAME\")\n",
    "USER = config.get(\"REDSHIFT\", \"USER\")\n",
    "PASSWORD = config.get(\"REDSHIFT\", \"PASSWORD\")\n",
    "PORT = config.get(\"REDSHIFT\", \"PORT\")\n",
    "IAM_ROLE_NAME = config.get(\"REDSHIFT\", \"IAM_ROLE_NAME\")\n",
    "\n",
    "pd.DataFrame({\n",
    "    \"Configurations\": [\n",
    "        \"KEY\", \"SECRET\", \"REGION\", \"CLUSTER_TYPE\", \"NUM_NODES\", \"NODE_TYPE\", \"CLUSTER_IDENTIFIER\",\n",
    "        \"DB_NAME\", \"USER\", \"PASSWORD\", \"PORT\", \"IAM_ROLE_NAME\"\n",
    "    ],\n",
    "    \"Values\": [\n",
    "        KEY, SECRET, REGION,\n",
    "        CLUSTER_TYPE, NUM_NODES, NODE_TYPE, CLUSTER_IDENTIFIER, DB_NAME,\n",
    "        USER, PASSWORD, PORT, IAM_ROLE_NAME\n",
    "    ]\n",
    "})"
   ]
  },
  {
   "cell_type": "markdown",
   "metadata": {
    "editable": true
   },
   "source": [
    "#### Utilizing the parameter configuration.\n",
    "1. Decode the encoded access key and the encoded secret key.\n",
    "2. Create multiple aws resources using access key, secret key and redshift region after loaded the configurations from credentials.cfg."
   ]
  },
  {
   "cell_type": "code",
   "execution_count": 4,
   "metadata": {
    "editable": true
   },
   "outputs": [],
   "source": [
    "ec2 = boto3.resource(\"ec2\", region_name=REGION,\n",
    "                            aws_access_key_id=base64.b64decode(KEY).decode('utf-8'),\n",
    "                            aws_secret_access_key=base64.b64decode(SECRET).decode('utf-8'))\n",
    "s3 = boto3.resource(\"s3\", region_name=REGION,\n",
    "                          aws_access_key_id=base64.b64decode(KEY).decode('utf-8'),\n",
    "                          aws_secret_access_key=base64.b64decode(SECRET).decode('utf-8'))\n",
    "iam = boto3.client('iam', region_name=REGION,\n",
    "                          aws_access_key_id=base64.b64decode(KEY).decode('utf-8'),\n",
    "                          aws_secret_access_key=base64.b64decode(SECRET).decode('utf-8'))\n",
    "\n",
    "redshift = boto3.client('redshift', region_name=REGION,\n",
    "                                    aws_access_key_id=base64.b64decode(KEY).decode('utf-8'),\n",
    "                                    aws_secret_access_key=base64.b64decode(SECRET).decode('utf-8'))"
   ]
  },
  {
   "cell_type": "markdown",
   "metadata": {
    "editable": true
   },
   "source": [
    "## Load multiple file from udacity-dend buckets defined from boto3 client above, here are the bucket files.\n",
    "1. Song data: s3://udacity-dend/song_data\n",
    "2. Log data: s3://udacity-dend/log_data\n",
    "3. This third file s3://udacity-dend/log_json_path.json contains the meta information that is required by AWS to correctly load s3://udacity-dend/log_data"
   ]
  },
  {
   "cell_type": "code",
   "execution_count": 8,
   "outputs": [
    {
     "name": "stdout",
     "output_type": "stream",
     "text": [
      "s3.Bucket.objectsCollectionManager(s3.Bucket(name='udacity-dend'), s3.ObjectSummary)\n",
      "Song data files: \n"
     ]
    },
    {
     "data": {
      "text/plain": "['song-data/A/A/B/TRAABCL128F4286650.json',\n 'song-data/A/A/B/TRAABDL12903CAABBA.json',\n 'song-data/A/A/B/TRAABEV12903CC53A4.json',\n 'song-data/A/A/B/TRAABFH128F92C812E.json',\n 'song-data/A/A/B/TRAABGU12903CC8DCF.json',\n 'song-data/A/A/B/TRAABHB12903CAFC2F.json',\n 'song-data/A/A/B/TRAABHO12903D08576.json',\n 'song-data/A/A/B/TRAABHP128F427AEC8.json',\n 'song-data/A/A/B/TRAABIG128F9356C56.json',\n 'song-data/A/A/B/TRAABIX128F92D6F94.json',\n 'song-data/A/A/B/TRAABJS128F9325C99.json',\n 'song-data/A/A/B/TRAABKD128F9302CE9.json',\n 'song-data/A/A/B/TRAABLR128F423B7E3.json',\n 'song-data/A/A/B/TRAABNV128F425CEE1.json',\n 'song-data/A/A/B/TRAABOA128F933684A.json',\n 'song-data/A/A/B/TRAABOG128F42955B1.json',\n 'song-data/A/A/B/TRAABPG128F14774DD.json',\n 'song-data/A/A/B/TRAABPO128F9312A56.json',\n 'song-data/A/A/B/TRAABPQ128F428F0B0.json',\n 'song-data/A/A/B/TRAABRX12903CC4816.json',\n 'song-data/A/A/B/TRAABTB128F146BF24.json',\n 'song-data/A/A/B/TRAABUQ128F92ECD79.json',\n 'song-data/A/A/B/TRAABVM128F14970CA.json',\n 'song-data/A/A/B/TRAABVM128F92CA9DC.json',\n 'song-data/A/A/B/TRAABWH128F427ABE8.json',\n 'song-data/A/A/B/TRAABXA128F9326351.json']"
     },
     "execution_count": 8,
     "metadata": {},
     "output_type": "execute_result"
    }
   ],
   "source": [
    "bucket=s3.Bucket('udacity-dend')\n",
    "song_data_files = [filename.key for filename in bucket.objects.filter(Prefix='song-data/A/A/B/')] # Load song data files\n",
    "\n",
    "print (\"Song data files: \")\n",
    "song_data_files"
   ],
   "metadata": {
    "collapsed": false
   }
  },
  {
   "cell_type": "code",
   "execution_count": 6,
   "metadata": {
    "editable": true
   },
   "outputs": [
    {
     "data": {
      "text/plain": "['log_data/',\n 'log_data/2018/11/2018-11-01-events.json',\n 'log_data/2018/11/2018-11-02-events.json',\n 'log_data/2018/11/2018-11-03-events.json',\n 'log_data/2018/11/2018-11-04-events.json',\n 'log_data/2018/11/2018-11-05-events.json',\n 'log_data/2018/11/2018-11-06-events.json',\n 'log_data/2018/11/2018-11-07-events.json',\n 'log_data/2018/11/2018-11-08-events.json',\n 'log_data/2018/11/2018-11-09-events.json',\n 'log_data/2018/11/2018-11-10-events.json',\n 'log_data/2018/11/2018-11-11-events.json',\n 'log_data/2018/11/2018-11-12-events.json',\n 'log_data/2018/11/2018-11-13-events.json',\n 'log_data/2018/11/2018-11-14-events.json',\n 'log_data/2018/11/2018-11-15-events.json',\n 'log_data/2018/11/2018-11-16-events.json',\n 'log_data/2018/11/2018-11-17-events.json',\n 'log_data/2018/11/2018-11-18-events.json',\n 'log_data/2018/11/2018-11-19-events.json',\n 'log_data/2018/11/2018-11-20-events.json',\n 'log_data/2018/11/2018-11-21-events.json',\n 'log_data/2018/11/2018-11-22-events.json',\n 'log_data/2018/11/2018-11-23-events.json',\n 'log_data/2018/11/2018-11-24-events.json',\n 'log_data/2018/11/2018-11-25-events.json',\n 'log_data/2018/11/2018-11-26-events.json',\n 'log_data/2018/11/2018-11-27-events.json',\n 'log_data/2018/11/2018-11-28-events.json',\n 'log_data/2018/11/2018-11-29-events.json',\n 'log_data/2018/11/2018-11-30-events.json']"
     },
     "execution_count": 6,
     "metadata": {},
     "output_type": "execute_result"
    }
   ],
   "source": [
    "log_data_files = [filename.key for filename in bucket.objects.filter(Prefix='log_data')] # Load log data files\n",
    "\n",
    "log_data_files"
   ]
  },
  {
   "cell_type": "code",
   "execution_count": 7,
   "metadata": {
    "editable": true
   },
   "outputs": [
    {
     "data": {
      "text/plain": "['log_json_path.json']"
     },
     "execution_count": 7,
     "metadata": {},
     "output_type": "execute_result"
    }
   ],
   "source": [
    "meta_data_files = [filename.key for filename in bucket.objects.filter(Prefix='log_json_path.json')]\n",
    "\n",
    "meta_data_files"
   ]
  },
  {
   "cell_type": "markdown",
   "metadata": {
    "editable": true
   },
   "source": [
    "## Create am IAM Role for Redshift Cluster\n",
    "Create an IAM Role that makes Redshift able to access S3 bucket (ReadOnly)"
   ]
  },
  {
   "cell_type": "code",
   "execution_count": 11,
   "metadata": {
    "editable": true
   },
   "outputs": [
    {
     "name": "stdout",
     "output_type": "stream",
     "text": [
      "{'Role': {'Path': '/', 'RoleName': 'redshift-iam-role', 'RoleId': 'AROAZCAWNORGYITM3DW3V', 'Arn': 'arn:aws:iam::622817277005:role/redshift-iam-role', 'CreateDate': datetime.datetime(2023, 2, 27, 16, 58, 59, tzinfo=tzutc()), 'AssumeRolePolicyDocument': {'Statement': [{'Action': 'sts:AssumeRole', 'Effect': 'Allow', 'Principal': {'Service': 'redshift.amazonaws.com'}}], 'Version': '2012-10-17'}}, 'ResponseMetadata': {'RequestId': 'deccbc6f-99a1-41fb-913b-1d0be11ab7be', 'HTTPStatusCode': 200, 'HTTPHeaders': {'x-amzn-requestid': 'deccbc6f-99a1-41fb-913b-1d0be11ab7be', 'content-type': 'text/xml', 'content-length': '790', 'date': 'Mon, 27 Feb 2023 16:58:59 GMT'}, 'RetryAttempts': 0}}\n"
     ]
    }
   ],
   "source": [
    "try:\n",
    "    dwhRole = iam.create_role(\n",
    "        Path='/',\n",
    "        RoleName=IAM_ROLE_NAME,\n",
    "        Description = \"Allows Redshift clusters to call AWS services on your behalf.\",\n",
    "        AssumeRolePolicyDocument=json.dumps(\n",
    "            {'Statement': [{'Action': 'sts:AssumeRole',\n",
    "               'Effect': 'Allow',\n",
    "               'Principal': {'Service': 'redshift.amazonaws.com'}}],\n",
    "             'Version': '2012-10-17'})\n",
    "    )\n",
    "    print(dwhRole)\n",
    "except Exception as e:\n",
    "    print(e)"
   ]
  },
  {
   "cell_type": "markdown",
   "metadata": {
    "editable": true
   },
   "source": [
    "## Attach policy to new IAM role created above.\n",
    "Attach all necessary policy into IAM ROLE."
   ]
  },
  {
   "cell_type": "code",
   "execution_count": 12,
   "metadata": {
    "editable": true
   },
   "outputs": [
    {
     "name": "stdout",
     "output_type": "stream",
     "text": [
      "1.2 Attaching Policy\n"
     ]
    },
    {
     "data": {
      "text/plain": "200"
     },
     "execution_count": 12,
     "metadata": {},
     "output_type": "execute_result"
    }
   ],
   "source": [
    "print(\"1.2 Attaching Policy\")\n",
    "\n",
    "iam.attach_role_policy(RoleName=IAM_ROLE_NAME,\n",
    "                       PolicyArn=\"arn:aws:iam::aws:policy/AmazonS3ReadOnlyAccess\"\n",
    "                      )['ResponseMetadata']['HTTPStatusCode']"
   ]
  },
  {
   "cell_type": "markdown",
   "metadata": {
    "editable": true
   },
   "source": [
    "## Verify that IAM Role is created successfully.\n",
    "- Get ARN of IAM Role."
   ]
  },
  {
   "cell_type": "code",
   "execution_count": 13,
   "metadata": {
    "editable": true
   },
   "outputs": [
    {
     "name": "stdout",
     "output_type": "stream",
     "text": [
      "1.3 Get the IAM role ARN\n",
      "arn:aws:iam::622817277005:role/redshift-iam-role\n"
     ]
    }
   ],
   "source": [
    "print(\"1.3 Get the IAM role ARN\")\n",
    "roleArn = iam.get_role(RoleName=IAM_ROLE_NAME)['Role']['Arn']\n",
    "\n",
    "print(roleArn)"
   ]
  },
  {
   "cell_type": "markdown",
   "source": [
    "- Create a RedShift Cluster\n",
    "- For complete arguments to `create_cluster`, see [docs](https://boto3.amazonaws.com/v1/documentation/api/latest/reference/services/redshift.html#Redshift.Client.create_cluster)"
   ],
   "metadata": {
    "collapsed": false
   }
  },
  {
   "cell_type": "code",
   "execution_count": 14,
   "metadata": {
    "editable": true
   },
   "outputs": [],
   "source": [
    "try:\n",
    "    redshift_create_cluster_response = redshift.create_cluster(\n",
    "    #HW\n",
    "        ClusterType=CLUSTER_TYPE,\n",
    "        NodeType=NODE_TYPE,\n",
    "        NumberOfNodes=int(NUM_NODES),\n",
    "\n",
    "        #Identifiers & Credentials\n",
    "        DBName=DB_NAME,\n",
    "        ClusterIdentifier=CLUSTER_IDENTIFIER,\n",
    "        MasterUsername=USER,\n",
    "        MasterUserPassword=base64.b64decode(PASSWORD).decode('utf-8'),\n",
    "        \n",
    "        #Roles (for s3 access)\n",
    "        IamRoles=[roleArn]\n",
    "    )\n",
    "except Exception as e:\n",
    "    print(e)"
   ]
  },
  {
   "cell_type": "code",
   "execution_count": 16,
   "outputs": [
    {
     "data": {
      "text/plain": "                 Key                                              Value\n0  ClusterIdentifier                                   sparkify-cluster\n1           NodeType                                          dc2.large\n2      ClusterStatus                                          available\n3     MasterUsername                                            quannct\n4             DBName                                           sparkify\n5           Endpoint  {'Address': 'sparkify-cluster.cvidguchcuu7.us-...\n6              VpcId                              vpc-0b20b33ba0fad4013\n7      NumberOfNodes                                                  4",
      "text/html": "<div>\n<style scoped>\n    .dataframe tbody tr th:only-of-type {\n        vertical-align: middle;\n    }\n\n    .dataframe tbody tr th {\n        vertical-align: top;\n    }\n\n    .dataframe thead th {\n        text-align: right;\n    }\n</style>\n<table border=\"1\" class=\"dataframe\">\n  <thead>\n    <tr style=\"text-align: right;\">\n      <th></th>\n      <th>Key</th>\n      <th>Value</th>\n    </tr>\n  </thead>\n  <tbody>\n    <tr>\n      <th>0</th>\n      <td>ClusterIdentifier</td>\n      <td>sparkify-cluster</td>\n    </tr>\n    <tr>\n      <th>1</th>\n      <td>NodeType</td>\n      <td>dc2.large</td>\n    </tr>\n    <tr>\n      <th>2</th>\n      <td>ClusterStatus</td>\n      <td>available</td>\n    </tr>\n    <tr>\n      <th>3</th>\n      <td>MasterUsername</td>\n      <td>quannct</td>\n    </tr>\n    <tr>\n      <th>4</th>\n      <td>DBName</td>\n      <td>sparkify</td>\n    </tr>\n    <tr>\n      <th>5</th>\n      <td>Endpoint</td>\n      <td>{'Address': 'sparkify-cluster.cvidguchcuu7.us-...</td>\n    </tr>\n    <tr>\n      <th>6</th>\n      <td>VpcId</td>\n      <td>vpc-0b20b33ba0fad4013</td>\n    </tr>\n    <tr>\n      <th>7</th>\n      <td>NumberOfNodes</td>\n      <td>4</td>\n    </tr>\n  </tbody>\n</table>\n</div>"
     },
     "execution_count": 16,
     "metadata": {},
     "output_type": "execute_result"
    }
   ],
   "source": [
    "def get_redshift_settings(props):\n",
    "    pd.set_option('display.expand_frame_repr', True)\n",
    "    keys = [\"ClusterIdentifier\", \"NodeType\", \"ClusterStatus\", \"MasterUsername\", \"DBName\", \"Endpoint\", \"NumberOfNodes\", 'VpcId']\n",
    "    x = [(k, v) for k,v in props.items() if k in keys]\n",
    "    return pd.DataFrame(data=x, columns=[\"Key\", \"Value\"])\n",
    "\n",
    "myClusterProps = redshift.describe_clusters(ClusterIdentifier=CLUSTER_IDENTIFIER)['Clusters'][0]\n",
    "get_redshift_settings(myClusterProps)"
   ],
   "metadata": {
    "collapsed": false
   }
  },
  {
   "cell_type": "markdown",
   "source": [
    "## Open an incoming  TCP port to access the cluster ednpoint\n",
    "Do not run authorize the inbound rule of security group again if the default security group has been configured already."
   ],
   "metadata": {
    "collapsed": false
   }
  },
  {
   "cell_type": "code",
   "execution_count": 18,
   "metadata": {
    "editable": true
   },
   "outputs": [
    {
     "name": "stdout",
     "output_type": "stream",
     "text": [
      "ec2.SecurityGroup(id='sg-00dfd05f7ce06ac62')\n"
     ]
    }
   ],
   "source": [
    "vpc = ec2.Vpc(id=myClusterProps['VpcId'])\n",
    "defaultSg = list(vpc.security_groups.all())[0]\n",
    "print(defaultSg)\n",
    "try:\n",
    "    defaultSg.authorize_ingress(\n",
    "        GroupName=defaultSg.group_name,\n",
    "        CidrIp='0.0.0.0/0',\n",
    "        IpProtocol='TCP',\n",
    "        FromPort=int(PORT),\n",
    "        ToPort=int(PORT)\n",
    "    )\n",
    "except Exception as e:\n",
    "    print(e)"
   ]
  },
  {
   "cell_type": "markdown",
   "source": [
    "## *Describe* the cluster to see its status\n",
    "- run this block several times until the cluster status becomes `Available`"
   ],
   "metadata": {
    "collapsed": false
   }
  },
  {
   "cell_type": "markdown",
   "source": [
    "<h2> 2.2 Take note of the cluster <font color='red'> endpoint and role ARN </font> </h2>\n",
    "<font color='red'>DO NOT RUN THIS unless the cluster status becomes \"Available\". </font>"
   ],
   "metadata": {
    "collapsed": false
   }
  },
  {
   "cell_type": "code",
   "execution_count": 19,
   "metadata": {
    "editable": true
   },
   "outputs": [
    {
     "name": "stdout",
     "output_type": "stream",
     "text": [
      "REDSHIFT_ENDPOINT:  sparkify-cluster.cvidguchcuu7.us-west-2.redshift.amazonaws.com\n",
      "IAM_ROLE_ARN:  arn:aws:iam::622817277005:role/redshift-iam-role\n"
     ]
    }
   ],
   "source": [
    "REDSHIFT_ENDPOINT = myClusterProps['Endpoint']['Address']\n",
    "IAM_ROLE_ARN = myClusterProps['IamRoles'][0]['IamRoleArn']\n",
    "print(\"REDSHIFT_ENDPOINT: \", REDSHIFT_ENDPOINT)\n",
    "print(\"IAM_ROLE_ARN: \", IAM_ROLE_ARN)"
   ]
  },
  {
   "cell_type": "markdown",
   "source": [
    "# Clean up resources\n",
    "<b><font color='red'>DO NOT RUN THIS UNLESS YOU ARE SURE OR YOU DON'T USE THE AWS MANAGEMENT CONSOLE TO DELETE <br/></b>"
   ],
   "metadata": {
    "collapsed": false
   }
  },
  {
   "cell_type": "markdown",
   "source": [
    "## <strong><font color='red'>Remove IAM Role.</font></strong>"
   ],
   "metadata": {
    "collapsed": false
   }
  },
  {
   "cell_type": "code",
   "execution_count": 10,
   "metadata": {
    "editable": true
   },
   "outputs": [
    {
     "data": {
      "text/plain": "{'ResponseMetadata': {'RequestId': '8b4dc15b-c855-405f-abf6-a11aa071b59a',\n  'HTTPStatusCode': 200,\n  'HTTPHeaders': {'x-amzn-requestid': '8b4dc15b-c855-405f-abf6-a11aa071b59a',\n   'content-type': 'text/xml',\n   'content-length': '200',\n   'date': 'Mon, 27 Feb 2023 16:58:49 GMT'},\n  'RetryAttempts': 0}}"
     },
     "execution_count": 10,
     "metadata": {},
     "output_type": "execute_result"
    }
   ],
   "source": [
    "iam.detach_role_policy(RoleName=IAM_ROLE_NAME, PolicyArn=\"arn:aws:iam::aws:policy/AmazonS3ReadOnlyAccess\")\n",
    "iam.delete_role(RoleName=IAM_ROLE_NAME)"
   ]
  },
  {
   "cell_type": "markdown",
   "metadata": {
    "editable": true
   },
   "source": [
    "## <strong><font color='red'>Remove redshift cluster</font></strong>"
   ]
  },
  {
   "cell_type": "code",
   "execution_count": 21,
   "metadata": {
    "editable": true
   },
   "outputs": [
    {
     "data": {
      "text/plain": "{'Cluster': {'ClusterIdentifier': 'sparkify-cluster',\n  'NodeType': 'dc2.large',\n  'ClusterStatus': 'deleting',\n  'ClusterAvailabilityStatus': 'Modifying',\n  'MasterUsername': 'quannct',\n  'DBName': 'sparkify',\n  'Endpoint': {'Address': 'sparkify-cluster.cvidguchcuu7.us-west-2.redshift.amazonaws.com',\n   'Port': 5439},\n  'ClusterCreateTime': datetime.datetime(2023, 2, 27, 5, 28, 17, 410000, tzinfo=tzutc()),\n  'AutomatedSnapshotRetentionPeriod': 1,\n  'ManualSnapshotRetentionPeriod': -1,\n  'ClusterSecurityGroups': [],\n  'VpcSecurityGroups': [{'VpcSecurityGroupId': 'sg-00dfd05f7ce06ac62',\n    'Status': 'active'}],\n  'ClusterParameterGroups': [{'ParameterGroupName': 'default.redshift-1.0',\n    'ParameterApplyStatus': 'in-sync'}],\n  'ClusterSubnetGroupName': 'default',\n  'VpcId': 'vpc-0b20b33ba0fad4013',\n  'AvailabilityZone': 'us-west-2a',\n  'PreferredMaintenanceWindow': 'mon:06:30-mon:07:00',\n  'PendingModifiedValues': {},\n  'ClusterVersion': '1.0',\n  'AllowVersionUpgrade': True,\n  'NumberOfNodes': 4,\n  'PubliclyAccessible': True,\n  'Encrypted': False,\n  'Tags': [],\n  'EnhancedVpcRouting': False,\n  'IamRoles': [{'IamRoleArn': 'arn:aws:iam::622817277005:role/redshift-iam-role',\n    'ApplyStatus': 'in-sync'}],\n  'MaintenanceTrackName': 'current',\n  'DeferredMaintenanceWindows': [],\n  'NextMaintenanceWindowStartTime': datetime.datetime(2023, 2, 27, 6, 30, tzinfo=tzutc()),\n  'TotalStorageCapacityInMegaBytes': 1600000,\n  'AquaConfiguration': {'AquaStatus': 'disabled',\n   'AquaConfigurationStatus': 'auto'}},\n 'ResponseMetadata': {'RequestId': '00d9214f-0060-4357-b48d-73c6f91563f5',\n  'HTTPStatusCode': 200,\n  'HTTPHeaders': {'x-amzn-requestid': '00d9214f-0060-4357-b48d-73c6f91563f5',\n   'content-type': 'text/xml',\n   'content-length': '2739',\n   'date': 'Mon, 27 Feb 2023 06:04:01 GMT'},\n  'RetryAttempts': 0}}"
     },
     "execution_count": 21,
     "metadata": {},
     "output_type": "execute_result"
    }
   ],
   "source": [
    "redshift.delete_cluster( ClusterIdentifier=CLUSTER_IDENTIFIER,  SkipFinalClusterSnapshot=True)"
   ]
  },
  {
   "cell_type": "code",
   "execution_count": 50,
   "outputs": [],
   "source": [],
   "metadata": {
    "collapsed": false
   }
  }
 ],
 "metadata": {
  "kernelspec": {
   "display_name": "Python 3",
   "language": "python",
   "name": "python3"
  },
  "language_info": {
   "codemirror_mode": {
    "name": "ipython",
    "version": 3
   },
   "file_extension": ".py",
   "mimetype": "text/x-python",
   "name": "python",
   "nbconvert_exporter": "python",
   "pygments_lexer": "ipython3",
   "version": "3.6.3"
  }
 },
 "nbformat": 4,
 "nbformat_minor": 4
}
